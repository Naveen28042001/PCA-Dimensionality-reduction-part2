{
 "cells": [
  {
   "cell_type": "code",
   "execution_count": null,
   "id": "06627b43-2368-401e-b8a3-c3a39156d45a",
   "metadata": {},
   "outputs": [],
   "source": [
    "Q1. What is a projection and how is it used in PCA?\n",
    "\n",
    "Projection of the original data onto the new dimension.\n",
    "the projection of the original vectors on to q directions, the principal components, which span the sub- space."
   ]
  },
  {
   "cell_type": "code",
   "execution_count": null,
   "id": "659c70bc-b6aa-4528-9350-85d3a2a72ba9",
   "metadata": {},
   "outputs": [],
   "source": [
    "Q2. How does the optimization problem in PCA work, and what is it trying to achieve?\n",
    "\n"
   ]
  },
  {
   "cell_type": "code",
   "execution_count": null,
   "id": "42b89f95-3cda-4366-b2b1-4bbb5590d528",
   "metadata": {},
   "outputs": [],
   "source": [
    "Q3. What is the relationship between covariance matrices and PCA?\n",
    "\n",
    "PCA is simply described as “diagonalizing the covariance matrix”.It simply means that we need to find a non-trivial linear combination of our original variables such that the covariance matrix is diagonal."
   ]
  },
  {
   "cell_type": "code",
   "execution_count": null,
   "id": "33e591d3-076a-4059-aefc-18b9fd0f1f4a",
   "metadata": {},
   "outputs": [],
   "source": [
    "Q4. How does the choice of number of principal components impact the performance of PCA?\n",
    "\n",
    "The best number of components is 2 or 3. If we really want to reduce the size of the dataset, the best number of principal components is much less than the number of variables in the original dataset."
   ]
  },
  {
   "cell_type": "code",
   "execution_count": null,
   "id": "255e89dc-c56d-4728-a698-914206c190b0",
   "metadata": {},
   "outputs": [],
   "source": [
    "Q5. How can PCA be used in feature selection, and what are the benefits of using it for this purpose?\n",
    "\n",
    "PCA, generally called data reduction technique, is very useful feature selection technique as it uses linear algebra to transform the dataset into a compressed form."
   ]
  },
  {
   "cell_type": "code",
   "execution_count": null,
   "id": "77c949ae-3503-4d3d-9d03-26b3570691c5",
   "metadata": {},
   "outputs": [],
   "source": [
    "Q6. What are some common applications of PCA in data science and machine learning?\n",
    "\n",
    "PCA is used to visualize multidimensional data.\n",
    "It is used to reduce the number of dimensions in healthcare data.\n",
    "PCA can help resize an image.\n",
    "It can be used in finance to analyze stock data and forecast returns.\n",
    "PCA helps to find patterns in the high-dimensional datasets."
   ]
  },
  {
   "cell_type": "code",
   "execution_count": null,
   "id": "c8d2d0d4-f8a9-4cd3-8bb0-7923c69c3058",
   "metadata": {},
   "outputs": [],
   "source": [
    "Q7.What is the relationship between spread and variance in PCA?\n",
    "\n",
    "Variance is the spread of the data in a dataset. In PCA, the variables are transformed in such a way that they explain variance of the dataset in decreasing manner.\n"
   ]
  },
  {
   "cell_type": "code",
   "execution_count": null,
   "id": "b6a9be81-5f90-423a-9511-94d2151e925d",
   "metadata": {},
   "outputs": [],
   "source": [
    "Q8. How does PCA use the spread and variance of the data to identify principal components?\n",
    "\n",
    "PCA interprets data variance by finding orthogonal directions (principal components) in the data that capture the most information."
   ]
  },
  {
   "cell_type": "code",
   "execution_count": null,
   "id": "7b64192a-e3fb-4d72-9d72-74c2bedd8385",
   "metadata": {},
   "outputs": [],
   "source": [
    "Q9. How does PCA handle data with high variance in some dimensions but low variance in others?\n",
    "\n",
    "PCA gives more weight to variables that have higher variances than variables with low variances, so it is important to normalize the data on the same scale to get a reasonable covariance."
   ]
  }
 ],
 "metadata": {
  "kernelspec": {
   "display_name": "Python 3 (ipykernel)",
   "language": "python",
   "name": "python3"
  },
  "language_info": {
   "codemirror_mode": {
    "name": "ipython",
    "version": 3
   },
   "file_extension": ".py",
   "mimetype": "text/x-python",
   "name": "python",
   "nbconvert_exporter": "python",
   "pygments_lexer": "ipython3",
   "version": "3.10.8"
  }
 },
 "nbformat": 4,
 "nbformat_minor": 5
}
